{
 "cells": [
  {
   "cell_type": "markdown",
   "metadata": {},
   "source": [
    "# Hacker Rank Challenges\n",
    "1. Query all columns for all American cities in CITY with populations larger than 100000. The CountryCode for America is USA. \n",
    "```SELECT * FROM city WHERE countrycode = 'USA' AND population > 100000;```\n",
    "\n",
    "\n",
    "2. Query the names of all American cities in CITY with populations larger than 120000. The CountryCode for America is USA.\n",
    "```SELECT name FROM city WHERE population > 120000 AND countrycode =  'USA';```\n",
    "\n",
    "\n",
    "3. Query all columns (attributes) for every row in the CITY table.\n",
    "```SELECT * FROM city;```\n",
    "\n",
    "4.Query all columns for a city in CITY with the ID 1661.\n",
    "```SELECT * FROM city WHERE id = '1661';```\n",
    "\n",
    "\n",
    "4.Query all attributes of every Japanese city in the CITY table. The COUNTRYCODE for Japan is JPN.\n",
    "```SELECT * FROM city WHERE countrycode = 'JPN';```\n",
    "\n",
    "\n",
    "5. Query the names of all the Japanese cities in the CITY table. The COUNTRYCODE for Japan is JPN.\n",
    "```SELECT name FROM city WHERE countrycode = 'JPN';```\n",
    "\n",
    "6.\n",
    "```SELECT DISTINCT city FROM station WHERE mod(id, 2)=0;```\n",
    "\n",
    "7.     Problem\n",
    "    Submissions\n",
    "    Leaderboard\n",
    "    Discussions\n",
    "\n",
    "Write a query identifying the type of each record in the TRIANGLES table using its three side lengths. Output one of the following statements for each record in the table:\n",
    "\n",
    "    Equilateral: It's a triangle with sides of equal length.\n",
    "    Isosceles: It's a triangle with sides of equal length.\n",
    "    Scalene: It's a triangle with sides of differing lengths.\n",
    "    Not A Triangle: The given values of A, B, and C don't form a triangle.\n",
    "```SELECT \n",
    "CASE WHEN ( c >= ( a + b)) OR ( b >= (a + c)) OR ( a >= (c + b)) THEN 'Not A Triangle' \n",
    "WHEN a = b AND b = c THEN 'Equilateral'\n",
    "WHEN a = b OR b = c OR a = c THEN 'Isosceles'\n",
    "ELSE 'Scalene' END\n",
    "FROM triangles;```"
   ]
  },
  {
   "cell_type": "code",
   "execution_count": null,
   "metadata": {
    "collapsed": true
   },
   "outputs": [],
   "source": []
  },
  {
   "cell_type": "code",
   "execution_count": null,
   "metadata": {
    "collapsed": true
   },
   "outputs": [],
   "source": []
  }
 ],
 "metadata": {
  "kernelspec": {
   "display_name": "Python 3",
   "language": "python",
   "name": "python3"
  },
  "language_info": {
   "codemirror_mode": {
    "name": "ipython",
    "version": 3
   },
   "file_extension": ".py",
   "mimetype": "text/x-python",
   "name": "python",
   "nbconvert_exporter": "python",
   "pygments_lexer": "ipython3",
   "version": "3.6.3"
  }
 },
 "nbformat": 4,
 "nbformat_minor": 2
}
