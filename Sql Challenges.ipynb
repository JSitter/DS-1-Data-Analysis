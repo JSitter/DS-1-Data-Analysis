{
 "cells": [
  {
   "cell_type": "markdown",
   "metadata": {},
   "source": [
    "# SQL Queries\n",
    "\n",
    "1. Get the player names, player hometowns, school names, player positions, and school conferences for all players with position ‘QB’ or ‘WR’ ``` SELECT player_name, hometown, school_name, position FROM benn.college_football_players WHERE position = 'QB' OR position = 'WR'```\n",
    "\n",
    "2. Create a table that displays the average height of players at each position. ```Select position, AVG(height) AS averageheight FROM benn.college_football_players GROUP BY position```\n",
    "\n",
    "3. What is the max/min/average amount of investment money raised by companies in SF that have been acquired at some point?\n",
    "\n",
    "```SELECT MAX(tutorial.crunchbase_investments.raised_amount_usd), MIN(tutorial.crunchbase_investments.raised_amount_usd), AVG(tutorial.crunchbase_investments.raised_amount_usd) FROM tutorial.crunchbase_investments INNER JOIN tutorial.crunchbase_acquisitions ON tutorial.crunchbase_investments.company_name=tutorial.crunchbase_acquisitions.company_name;```\n",
    "\n",
    "max\tmin\tavg\n",
    "443000000\t4000\t12840199.025268694\n",
    "\n",
    "4. In SF, what pd_district am I most likely to have my car stolen, and on what day of the week is this most likely?\n",
    "```SELECT COUNT(pd_district), pd_district, day_of_week FROM (SELECT * FROM tutorial.sf_crime_incidents_cleandate WHERE category ilike 'VEHICLE THEFT' ) as foo GROUP BY pd_district, day_of_week ORDER BY count DESC```\n",
    "\n",
    "DON'T PARK YOUR CAR IN INGLESIDE ON FRIDAY! (or literally any other day of the week unless of course you don't want to have a car anymore in which case I think we can all understand.)\n",
    "\n",
    "5. Which top 3 categories of crime are most likely to go unresolved in Mission District?\n",
    "```SELECT DISTINCT category FROM tutorial.sf_crime_incidents_cleandate```"
   ]
  },
  {
   "cell_type": "code",
   "execution_count": null,
   "metadata": {
    "collapsed": true
   },
   "outputs": [],
   "source": []
  }
 ],
 "metadata": {
  "kernelspec": {
   "display_name": "Python 3",
   "language": "python",
   "name": "python3"
  },
  "language_info": {
   "codemirror_mode": {
    "name": "ipython",
    "version": 3
   },
   "file_extension": ".py",
   "mimetype": "text/x-python",
   "name": "python",
   "nbconvert_exporter": "python",
   "pygments_lexer": "ipython3",
   "version": "3.6.3"
  }
 },
 "nbformat": 4,
 "nbformat_minor": 2
}
