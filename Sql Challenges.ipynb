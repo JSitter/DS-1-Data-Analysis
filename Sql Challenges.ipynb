{
 "cells": [
  {
   "cell_type": "markdown",
   "metadata": {},
   "source": [
    "# SQL Queries\n",
    "\n",
    "1. Get the player names, player hometowns, school names, player positions, and school conferences for all players with position ‘QB’ or ‘WR’ ``` SELECT player_name, hometown, school_name, position FROM benn.college_football_players WHERE position = 'QB' OR position = 'WR'```\n",
    "\n",
    "2. Create a table that displays the average height of players at each position. ```Select position, AVG(height) AS averageheight FROM benn.college_football_players GROUP BY position```\n",
    "\n",
    "3. What is the max/min/average amount of investment money raised by companies in SF that have been acquired at some point?\n",
    "```SELECT MAX(tutorial.crunchbase_acquisitions.price_amount), MIN(tutorial.crunchbase_acquisitions.price_amount), AVG(tutorial.crunchbase_acquisitions.price_amount) FROM tutorial.crunchbase_acquisitions```\n",
    "```SELECT MAX(tutorial.crunchbase_investments.raised_amount_usd), MIN(tutorial.crunchbase_investments.raised_amount_usd), AVG(tutorial.crunchbase_investments.raised_amount_usd) FROM tutorial.crunchbase_investments INNER JOIN tutorial.crunchbase_acquisitions ON tutorial.crunchbase_investments.company_name=tutorial.crunchbase_acquisitions.company_name;```\n",
    "\n",
    "max\tmin\tavg\n",
    "443000000\t4000\t12840199.025268694\n",
    "\n",
    "4. "
   ]
  },
  {
   "cell_type": "code",
   "execution_count": null,
   "metadata": {
    "collapsed": true
   },
   "outputs": [],
   "source": []
  }
 ],
 "metadata": {
  "kernelspec": {
   "display_name": "Python 3",
   "language": "python",
   "name": "python3"
  },
  "language_info": {
   "codemirror_mode": {
    "name": "ipython",
    "version": 3
   },
   "file_extension": ".py",
   "mimetype": "text/x-python",
   "name": "python",
   "nbconvert_exporter": "python",
   "pygments_lexer": "ipython3",
   "version": "3.6.3"
  }
 },
 "nbformat": 4,
 "nbformat_minor": 2
}
