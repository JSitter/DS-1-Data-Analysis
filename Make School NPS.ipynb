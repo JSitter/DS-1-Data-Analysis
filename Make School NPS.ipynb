{
 "cells": [
  {
   "cell_type": "markdown",
   "metadata": {},
   "source": [
    "# Let do this!\n",
    "\n",
    "## 2016 Data"
   ]
  },
  {
   "cell_type": "code",
   "execution_count": 37,
   "metadata": {},
   "outputs": [
    {
     "name": "stdout",
     "output_type": "stream",
     "text": [
      "number of files: 39\n"
     ]
    },
    {
     "data": {
      "text/html": [
       "<div>\n",
       "<style>\n",
       "    .dataframe thead tr:only-child th {\n",
       "        text-align: right;\n",
       "    }\n",
       "\n",
       "    .dataframe thead th {\n",
       "        text-align: left;\n",
       "    }\n",
       "\n",
       "    .dataframe tbody tr th {\n",
       "        vertical-align: top;\n",
       "    }\n",
       "</style>\n",
       "<table border=\"1\" class=\"dataframe\">\n",
       "  <thead>\n",
       "    <tr style=\"text-align: right;\">\n",
       "      <th></th>\n",
       "      <th>City</th>\n",
       "      <th>How well are the tutorials paced?</th>\n",
       "      <th>How well is the schedule paced?</th>\n",
       "      <th>How would you rate your overall satisfaction with the Summer Academy this week?</th>\n",
       "      <th>Timestamp</th>\n",
       "      <th>Unnamed: 0</th>\n",
       "      <th>Week</th>\n",
       "      <th>What track are you in?</th>\n",
       "    </tr>\n",
       "  </thead>\n",
       "  <tbody>\n",
       "    <tr>\n",
       "      <th>0</th>\n",
       "      <td>Taipei</td>\n",
       "      <td>NaN</td>\n",
       "      <td>3.0</td>\n",
       "      <td>3</td>\n",
       "      <td>8/5/2016 1:39:41</td>\n",
       "      <td>NaN</td>\n",
       "      <td>7</td>\n",
       "      <td>NaN</td>\n",
       "    </tr>\n",
       "    <tr>\n",
       "      <th>1</th>\n",
       "      <td>Taipei</td>\n",
       "      <td>NaN</td>\n",
       "      <td>3.0</td>\n",
       "      <td>4</td>\n",
       "      <td>8/5/2016 1:40:47</td>\n",
       "      <td>NaN</td>\n",
       "      <td>7</td>\n",
       "      <td>NaN</td>\n",
       "    </tr>\n",
       "    <tr>\n",
       "      <th>2</th>\n",
       "      <td>Taipei</td>\n",
       "      <td>NaN</td>\n",
       "      <td>3.0</td>\n",
       "      <td>4</td>\n",
       "      <td>8/5/2016 1:40:50</td>\n",
       "      <td>NaN</td>\n",
       "      <td>7</td>\n",
       "      <td>NaN</td>\n",
       "    </tr>\n",
       "    <tr>\n",
       "      <th>3</th>\n",
       "      <td>Taipei</td>\n",
       "      <td>NaN</td>\n",
       "      <td>4.0</td>\n",
       "      <td>4</td>\n",
       "      <td>8/5/2016 1:42:44</td>\n",
       "      <td>NaN</td>\n",
       "      <td>7</td>\n",
       "      <td>NaN</td>\n",
       "    </tr>\n",
       "    <tr>\n",
       "      <th>4</th>\n",
       "      <td>Taipei</td>\n",
       "      <td>NaN</td>\n",
       "      <td>4.0</td>\n",
       "      <td>5</td>\n",
       "      <td>8/5/2016 1:45:13</td>\n",
       "      <td>NaN</td>\n",
       "      <td>7</td>\n",
       "      <td>NaN</td>\n",
       "    </tr>\n",
       "    <tr>\n",
       "      <th>5</th>\n",
       "      <td>Taipei</td>\n",
       "      <td>NaN</td>\n",
       "      <td>3.0</td>\n",
       "      <td>4</td>\n",
       "      <td>8/5/2016 1:45:39</td>\n",
       "      <td>NaN</td>\n",
       "      <td>7</td>\n",
       "      <td>NaN</td>\n",
       "    </tr>\n",
       "    <tr>\n",
       "      <th>6</th>\n",
       "      <td>Taipei</td>\n",
       "      <td>NaN</td>\n",
       "      <td>3.0</td>\n",
       "      <td>4</td>\n",
       "      <td>8/5/2016 1:49:21</td>\n",
       "      <td>NaN</td>\n",
       "      <td>7</td>\n",
       "      <td>NaN</td>\n",
       "    </tr>\n",
       "    <tr>\n",
       "      <th>7</th>\n",
       "      <td>Taipei</td>\n",
       "      <td>NaN</td>\n",
       "      <td>3.0</td>\n",
       "      <td>5</td>\n",
       "      <td>8/8/2016 1:30:34</td>\n",
       "      <td>NaN</td>\n",
       "      <td>7</td>\n",
       "      <td>NaN</td>\n",
       "    </tr>\n",
       "    <tr>\n",
       "      <th>8</th>\n",
       "      <td>Taipei</td>\n",
       "      <td>NaN</td>\n",
       "      <td>3.0</td>\n",
       "      <td>5</td>\n",
       "      <td>8/8/2016 1:33:45</td>\n",
       "      <td>NaN</td>\n",
       "      <td>7</td>\n",
       "      <td>NaN</td>\n",
       "    </tr>\n",
       "    <tr>\n",
       "      <th>9</th>\n",
       "      <td>Taipei</td>\n",
       "      <td>NaN</td>\n",
       "      <td>3.0</td>\n",
       "      <td>5</td>\n",
       "      <td>8/8/2016 1:49:29</td>\n",
       "      <td>NaN</td>\n",
       "      <td>7</td>\n",
       "      <td>NaN</td>\n",
       "    </tr>\n",
       "    <tr>\n",
       "      <th>10</th>\n",
       "      <td>Taipei</td>\n",
       "      <td>NaN</td>\n",
       "      <td>3.0</td>\n",
       "      <td>3</td>\n",
       "      <td>8/8/2016 1:51:00</td>\n",
       "      <td>NaN</td>\n",
       "      <td>7</td>\n",
       "      <td>NaN</td>\n",
       "    </tr>\n",
       "    <tr>\n",
       "      <th>0</th>\n",
       "      <td>Tokyo</td>\n",
       "      <td>NaN</td>\n",
       "      <td>4.0</td>\n",
       "      <td>3</td>\n",
       "      <td>7/31/2016 1:04:57</td>\n",
       "      <td>NaN</td>\n",
       "      <td>6</td>\n",
       "      <td>NaN</td>\n",
       "    </tr>\n",
       "    <tr>\n",
       "      <th>1</th>\n",
       "      <td>Tokyo</td>\n",
       "      <td>NaN</td>\n",
       "      <td>3.0</td>\n",
       "      <td>4</td>\n",
       "      <td>7/31/2016 3:38:14</td>\n",
       "      <td>NaN</td>\n",
       "      <td>6</td>\n",
       "      <td>NaN</td>\n",
       "    </tr>\n",
       "    <tr>\n",
       "      <th>2</th>\n",
       "      <td>Tokyo</td>\n",
       "      <td>NaN</td>\n",
       "      <td>1.0</td>\n",
       "      <td>4</td>\n",
       "      <td>7/31/2016 3:59:43</td>\n",
       "      <td>NaN</td>\n",
       "      <td>6</td>\n",
       "      <td>NaN</td>\n",
       "    </tr>\n",
       "    <tr>\n",
       "      <th>3</th>\n",
       "      <td>Tokyo</td>\n",
       "      <td>NaN</td>\n",
       "      <td>2.0</td>\n",
       "      <td>4</td>\n",
       "      <td>7/31/2016 4:19:51</td>\n",
       "      <td>NaN</td>\n",
       "      <td>6</td>\n",
       "      <td>NaN</td>\n",
       "    </tr>\n",
       "    <tr>\n",
       "      <th>4</th>\n",
       "      <td>Tokyo</td>\n",
       "      <td>NaN</td>\n",
       "      <td>4.0</td>\n",
       "      <td>5</td>\n",
       "      <td>7/31/2016 5:14:20</td>\n",
       "      <td>NaN</td>\n",
       "      <td>6</td>\n",
       "      <td>NaN</td>\n",
       "    </tr>\n",
       "    <tr>\n",
       "      <th>5</th>\n",
       "      <td>Tokyo</td>\n",
       "      <td>NaN</td>\n",
       "      <td>3.0</td>\n",
       "      <td>3</td>\n",
       "      <td>7/31/2016 6:50:12</td>\n",
       "      <td>NaN</td>\n",
       "      <td>6</td>\n",
       "      <td>NaN</td>\n",
       "    </tr>\n",
       "    <tr>\n",
       "      <th>6</th>\n",
       "      <td>Tokyo</td>\n",
       "      <td>NaN</td>\n",
       "      <td>5.0</td>\n",
       "      <td>5</td>\n",
       "      <td>7/31/2016 15:23:52</td>\n",
       "      <td>NaN</td>\n",
       "      <td>6</td>\n",
       "      <td>NaN</td>\n",
       "    </tr>\n",
       "    <tr>\n",
       "      <th>7</th>\n",
       "      <td>Tokyo</td>\n",
       "      <td>NaN</td>\n",
       "      <td>2.0</td>\n",
       "      <td>4</td>\n",
       "      <td>7/31/2016 16:49:45</td>\n",
       "      <td>NaN</td>\n",
       "      <td>6</td>\n",
       "      <td>NaN</td>\n",
       "    </tr>\n",
       "    <tr>\n",
       "      <th>8</th>\n",
       "      <td>Tokyo</td>\n",
       "      <td>NaN</td>\n",
       "      <td>4.0</td>\n",
       "      <td>3</td>\n",
       "      <td>8/1/2016 1:18:47</td>\n",
       "      <td>NaN</td>\n",
       "      <td>6</td>\n",
       "      <td>NaN</td>\n",
       "    </tr>\n",
       "    <tr>\n",
       "      <th>9</th>\n",
       "      <td>Tokyo</td>\n",
       "      <td>NaN</td>\n",
       "      <td>3.0</td>\n",
       "      <td>5</td>\n",
       "      <td>8/1/2016 1:30:17</td>\n",
       "      <td>NaN</td>\n",
       "      <td>6</td>\n",
       "      <td>NaN</td>\n",
       "    </tr>\n",
       "    <tr>\n",
       "      <th>10</th>\n",
       "      <td>Tokyo</td>\n",
       "      <td>NaN</td>\n",
       "      <td>3.0</td>\n",
       "      <td>5</td>\n",
       "      <td>8/1/2016 1:30:17</td>\n",
       "      <td>NaN</td>\n",
       "      <td>6</td>\n",
       "      <td>NaN</td>\n",
       "    </tr>\n",
       "    <tr>\n",
       "      <th>11</th>\n",
       "      <td>Tokyo</td>\n",
       "      <td>NaN</td>\n",
       "      <td>4.0</td>\n",
       "      <td>4</td>\n",
       "      <td>8/1/2016 6:15:10</td>\n",
       "      <td>NaN</td>\n",
       "      <td>6</td>\n",
       "      <td>NaN</td>\n",
       "    </tr>\n",
       "    <tr>\n",
       "      <th>12</th>\n",
       "      <td>Tokyo</td>\n",
       "      <td>NaN</td>\n",
       "      <td>3.0</td>\n",
       "      <td>4</td>\n",
       "      <td>8/1/2016 7:56:08</td>\n",
       "      <td>NaN</td>\n",
       "      <td>6</td>\n",
       "      <td>NaN</td>\n",
       "    </tr>\n",
       "    <tr>\n",
       "      <th>0</th>\n",
       "      <td>Singapore</td>\n",
       "      <td>3.0</td>\n",
       "      <td>NaN</td>\n",
       "      <td>2</td>\n",
       "      <td>6/23/2016 22:24:53</td>\n",
       "      <td>NaN</td>\n",
       "      <td>1</td>\n",
       "      <td>NaN</td>\n",
       "    </tr>\n",
       "    <tr>\n",
       "      <th>1</th>\n",
       "      <td>Singapore</td>\n",
       "      <td>3.0</td>\n",
       "      <td>NaN</td>\n",
       "      <td>2</td>\n",
       "      <td>6/27/2016 4:03:03</td>\n",
       "      <td>NaN</td>\n",
       "      <td>1</td>\n",
       "      <td>NaN</td>\n",
       "    </tr>\n",
       "    <tr>\n",
       "      <th>2</th>\n",
       "      <td>Singapore</td>\n",
       "      <td>3.0</td>\n",
       "      <td>NaN</td>\n",
       "      <td>3</td>\n",
       "      <td>6/23/2016 22:13:04</td>\n",
       "      <td>NaN</td>\n",
       "      <td>1</td>\n",
       "      <td>NaN</td>\n",
       "    </tr>\n",
       "    <tr>\n",
       "      <th>3</th>\n",
       "      <td>Singapore</td>\n",
       "      <td>4.0</td>\n",
       "      <td>NaN</td>\n",
       "      <td>4</td>\n",
       "      <td>6/23/2016 22:09:23</td>\n",
       "      <td>NaN</td>\n",
       "      <td>1</td>\n",
       "      <td>NaN</td>\n",
       "    </tr>\n",
       "    <tr>\n",
       "      <th>4</th>\n",
       "      <td>Singapore</td>\n",
       "      <td>4.0</td>\n",
       "      <td>NaN</td>\n",
       "      <td>4</td>\n",
       "      <td>6/23/2016 22:11:39</td>\n",
       "      <td>NaN</td>\n",
       "      <td>1</td>\n",
       "      <td>NaN</td>\n",
       "    </tr>\n",
       "    <tr>\n",
       "      <th>5</th>\n",
       "      <td>Singapore</td>\n",
       "      <td>4.0</td>\n",
       "      <td>NaN</td>\n",
       "      <td>4</td>\n",
       "      <td>6/23/2016 22:11:44</td>\n",
       "      <td>NaN</td>\n",
       "      <td>1</td>\n",
       "      <td>NaN</td>\n",
       "    </tr>\n",
       "    <tr>\n",
       "      <th>...</th>\n",
       "      <td>...</td>\n",
       "      <td>...</td>\n",
       "      <td>...</td>\n",
       "      <td>...</td>\n",
       "      <td>...</td>\n",
       "      <td>...</td>\n",
       "      <td>...</td>\n",
       "      <td>...</td>\n",
       "    </tr>\n",
       "    <tr>\n",
       "      <th>6</th>\n",
       "      <td>SV</td>\n",
       "      <td>NaN</td>\n",
       "      <td>4.0</td>\n",
       "      <td>4</td>\n",
       "      <td>7/8/2016 14:03:46</td>\n",
       "      <td>NaN</td>\n",
       "      <td>3</td>\n",
       "      <td>Apps</td>\n",
       "    </tr>\n",
       "    <tr>\n",
       "      <th>7</th>\n",
       "      <td>SV</td>\n",
       "      <td>NaN</td>\n",
       "      <td>4.0</td>\n",
       "      <td>3</td>\n",
       "      <td>7/8/2016 16:40:10</td>\n",
       "      <td>NaN</td>\n",
       "      <td>3</td>\n",
       "      <td>Apps</td>\n",
       "    </tr>\n",
       "    <tr>\n",
       "      <th>8</th>\n",
       "      <td>SV</td>\n",
       "      <td>NaN</td>\n",
       "      <td>4.0</td>\n",
       "      <td>4</td>\n",
       "      <td>7/8/2016 13:58:12</td>\n",
       "      <td>NaN</td>\n",
       "      <td>3</td>\n",
       "      <td>Apps</td>\n",
       "    </tr>\n",
       "    <tr>\n",
       "      <th>9</th>\n",
       "      <td>SV</td>\n",
       "      <td>NaN</td>\n",
       "      <td>4.0</td>\n",
       "      <td>3</td>\n",
       "      <td>7/8/2016 13:53:19</td>\n",
       "      <td>NaN</td>\n",
       "      <td>3</td>\n",
       "      <td>Apps</td>\n",
       "    </tr>\n",
       "    <tr>\n",
       "      <th>10</th>\n",
       "      <td>SV</td>\n",
       "      <td>NaN</td>\n",
       "      <td>2.0</td>\n",
       "      <td>3</td>\n",
       "      <td>7/8/2016 15:59:30</td>\n",
       "      <td>NaN</td>\n",
       "      <td>3</td>\n",
       "      <td>Apps</td>\n",
       "    </tr>\n",
       "    <tr>\n",
       "      <th>11</th>\n",
       "      <td>SV</td>\n",
       "      <td>NaN</td>\n",
       "      <td>4.0</td>\n",
       "      <td>5</td>\n",
       "      <td>7/8/2016 16:11:32</td>\n",
       "      <td>NaN</td>\n",
       "      <td>3</td>\n",
       "      <td>Apps</td>\n",
       "    </tr>\n",
       "    <tr>\n",
       "      <th>12</th>\n",
       "      <td>SV</td>\n",
       "      <td>NaN</td>\n",
       "      <td>5.0</td>\n",
       "      <td>5</td>\n",
       "      <td>7/8/2016 12:49:05</td>\n",
       "      <td>NaN</td>\n",
       "      <td>3</td>\n",
       "      <td>Games</td>\n",
       "    </tr>\n",
       "    <tr>\n",
       "      <th>13</th>\n",
       "      <td>SV</td>\n",
       "      <td>NaN</td>\n",
       "      <td>3.0</td>\n",
       "      <td>4</td>\n",
       "      <td>7/8/2016 12:49:16</td>\n",
       "      <td>NaN</td>\n",
       "      <td>3</td>\n",
       "      <td>Games</td>\n",
       "    </tr>\n",
       "    <tr>\n",
       "      <th>14</th>\n",
       "      <td>SV</td>\n",
       "      <td>NaN</td>\n",
       "      <td>3.0</td>\n",
       "      <td>5</td>\n",
       "      <td>7/8/2016 12:47:42</td>\n",
       "      <td>NaN</td>\n",
       "      <td>3</td>\n",
       "      <td>Games</td>\n",
       "    </tr>\n",
       "    <tr>\n",
       "      <th>15</th>\n",
       "      <td>SV</td>\n",
       "      <td>NaN</td>\n",
       "      <td>3.0</td>\n",
       "      <td>5</td>\n",
       "      <td>7/8/2016 12:43:44</td>\n",
       "      <td>NaN</td>\n",
       "      <td>3</td>\n",
       "      <td>Intro</td>\n",
       "    </tr>\n",
       "    <tr>\n",
       "      <th>16</th>\n",
       "      <td>SV</td>\n",
       "      <td>NaN</td>\n",
       "      <td>3.0</td>\n",
       "      <td>4</td>\n",
       "      <td>7/8/2016 13:55:51</td>\n",
       "      <td>NaN</td>\n",
       "      <td>3</td>\n",
       "      <td>Apps</td>\n",
       "    </tr>\n",
       "    <tr>\n",
       "      <th>17</th>\n",
       "      <td>SV</td>\n",
       "      <td>NaN</td>\n",
       "      <td>3.0</td>\n",
       "      <td>5</td>\n",
       "      <td>7/8/2016 14:02:54</td>\n",
       "      <td>NaN</td>\n",
       "      <td>3</td>\n",
       "      <td>Games</td>\n",
       "    </tr>\n",
       "    <tr>\n",
       "      <th>18</th>\n",
       "      <td>SV</td>\n",
       "      <td>NaN</td>\n",
       "      <td>3.0</td>\n",
       "      <td>5</td>\n",
       "      <td>7/8/2016 14:29:22</td>\n",
       "      <td>NaN</td>\n",
       "      <td>3</td>\n",
       "      <td>Games</td>\n",
       "    </tr>\n",
       "    <tr>\n",
       "      <th>19</th>\n",
       "      <td>SV</td>\n",
       "      <td>NaN</td>\n",
       "      <td>2.0</td>\n",
       "      <td>5</td>\n",
       "      <td>7/9/2016 17:05:33</td>\n",
       "      <td>NaN</td>\n",
       "      <td>3</td>\n",
       "      <td>Games</td>\n",
       "    </tr>\n",
       "    <tr>\n",
       "      <th>20</th>\n",
       "      <td>SV</td>\n",
       "      <td>NaN</td>\n",
       "      <td>3.0</td>\n",
       "      <td>3</td>\n",
       "      <td>7/8/2016 16:55:21</td>\n",
       "      <td>NaN</td>\n",
       "      <td>3</td>\n",
       "      <td>Apps</td>\n",
       "    </tr>\n",
       "    <tr>\n",
       "      <th>21</th>\n",
       "      <td>SV</td>\n",
       "      <td>NaN</td>\n",
       "      <td>3.0</td>\n",
       "      <td>3</td>\n",
       "      <td>7/8/2016 16:08:13</td>\n",
       "      <td>NaN</td>\n",
       "      <td>3</td>\n",
       "      <td>Games</td>\n",
       "    </tr>\n",
       "    <tr>\n",
       "      <th>22</th>\n",
       "      <td>SV</td>\n",
       "      <td>NaN</td>\n",
       "      <td>3.0</td>\n",
       "      <td>4</td>\n",
       "      <td>7/8/2016 13:56:39</td>\n",
       "      <td>NaN</td>\n",
       "      <td>3</td>\n",
       "      <td>Apps</td>\n",
       "    </tr>\n",
       "    <tr>\n",
       "      <th>23</th>\n",
       "      <td>SV</td>\n",
       "      <td>NaN</td>\n",
       "      <td>2.0</td>\n",
       "      <td>4</td>\n",
       "      <td>7/8/2016 14:03:35</td>\n",
       "      <td>NaN</td>\n",
       "      <td>3</td>\n",
       "      <td>Apps</td>\n",
       "    </tr>\n",
       "    <tr>\n",
       "      <th>24</th>\n",
       "      <td>SV</td>\n",
       "      <td>NaN</td>\n",
       "      <td>5.0</td>\n",
       "      <td>4</td>\n",
       "      <td>7/8/2016 13:51:14</td>\n",
       "      <td>NaN</td>\n",
       "      <td>3</td>\n",
       "      <td>Games</td>\n",
       "    </tr>\n",
       "    <tr>\n",
       "      <th>25</th>\n",
       "      <td>SV</td>\n",
       "      <td>NaN</td>\n",
       "      <td>4.0</td>\n",
       "      <td>4</td>\n",
       "      <td>7/8/2016 12:41:10</td>\n",
       "      <td>NaN</td>\n",
       "      <td>3</td>\n",
       "      <td>Intro</td>\n",
       "    </tr>\n",
       "    <tr>\n",
       "      <th>26</th>\n",
       "      <td>SV</td>\n",
       "      <td>NaN</td>\n",
       "      <td>4.0</td>\n",
       "      <td>4</td>\n",
       "      <td>7/8/2016 12:41:13</td>\n",
       "      <td>NaN</td>\n",
       "      <td>3</td>\n",
       "      <td>Intro</td>\n",
       "    </tr>\n",
       "    <tr>\n",
       "      <th>27</th>\n",
       "      <td>SV</td>\n",
       "      <td>NaN</td>\n",
       "      <td>3.0</td>\n",
       "      <td>4</td>\n",
       "      <td>7/8/2016 12:41:51</td>\n",
       "      <td>NaN</td>\n",
       "      <td>3</td>\n",
       "      <td>Intro</td>\n",
       "    </tr>\n",
       "    <tr>\n",
       "      <th>28</th>\n",
       "      <td>SV</td>\n",
       "      <td>NaN</td>\n",
       "      <td>3.0</td>\n",
       "      <td>4</td>\n",
       "      <td>7/8/2016 12:43:35</td>\n",
       "      <td>NaN</td>\n",
       "      <td>3</td>\n",
       "      <td>Intro</td>\n",
       "    </tr>\n",
       "    <tr>\n",
       "      <th>29</th>\n",
       "      <td>SV</td>\n",
       "      <td>NaN</td>\n",
       "      <td>3.0</td>\n",
       "      <td>4</td>\n",
       "      <td>7/8/2016 12:45:11</td>\n",
       "      <td>NaN</td>\n",
       "      <td>3</td>\n",
       "      <td>Intro</td>\n",
       "    </tr>\n",
       "    <tr>\n",
       "      <th>30</th>\n",
       "      <td>SV</td>\n",
       "      <td>NaN</td>\n",
       "      <td>3.0</td>\n",
       "      <td>4</td>\n",
       "      <td>7/8/2016 12:47:39</td>\n",
       "      <td>NaN</td>\n",
       "      <td>3</td>\n",
       "      <td>Intro</td>\n",
       "    </tr>\n",
       "    <tr>\n",
       "      <th>31</th>\n",
       "      <td>SV</td>\n",
       "      <td>NaN</td>\n",
       "      <td>4.0</td>\n",
       "      <td>4</td>\n",
       "      <td>7/8/2016 13:01:58</td>\n",
       "      <td>NaN</td>\n",
       "      <td>3</td>\n",
       "      <td>Intro</td>\n",
       "    </tr>\n",
       "    <tr>\n",
       "      <th>32</th>\n",
       "      <td>SV</td>\n",
       "      <td>NaN</td>\n",
       "      <td>4.0</td>\n",
       "      <td>4</td>\n",
       "      <td>7/10/2016 23:44:41</td>\n",
       "      <td>NaN</td>\n",
       "      <td>3</td>\n",
       "      <td>Games</td>\n",
       "    </tr>\n",
       "    <tr>\n",
       "      <th>33</th>\n",
       "      <td>SV</td>\n",
       "      <td>NaN</td>\n",
       "      <td>3.0</td>\n",
       "      <td>5</td>\n",
       "      <td>7/8/2016 16:41:06</td>\n",
       "      <td>NaN</td>\n",
       "      <td>3</td>\n",
       "      <td>Apps</td>\n",
       "    </tr>\n",
       "    <tr>\n",
       "      <th>34</th>\n",
       "      <td>SV</td>\n",
       "      <td>NaN</td>\n",
       "      <td>3.0</td>\n",
       "      <td>5</td>\n",
       "      <td>7/8/2016 13:07:39</td>\n",
       "      <td>NaN</td>\n",
       "      <td>3</td>\n",
       "      <td>Games</td>\n",
       "    </tr>\n",
       "    <tr>\n",
       "      <th>35</th>\n",
       "      <td>SV</td>\n",
       "      <td>NaN</td>\n",
       "      <td>3.0</td>\n",
       "      <td>5</td>\n",
       "      <td>7/8/2016 12:45:02</td>\n",
       "      <td>NaN</td>\n",
       "      <td>3</td>\n",
       "      <td>Intro</td>\n",
       "    </tr>\n",
       "  </tbody>\n",
       "</table>\n",
       "<p>926 rows × 8 columns</p>\n",
       "</div>"
      ],
      "text/plain": [
       "         City  How well are the tutorials paced?  \\\n",
       "0      Taipei                                NaN   \n",
       "1      Taipei                                NaN   \n",
       "2      Taipei                                NaN   \n",
       "3      Taipei                                NaN   \n",
       "4      Taipei                                NaN   \n",
       "5      Taipei                                NaN   \n",
       "6      Taipei                                NaN   \n",
       "7      Taipei                                NaN   \n",
       "8      Taipei                                NaN   \n",
       "9      Taipei                                NaN   \n",
       "10     Taipei                                NaN   \n",
       "0       Tokyo                                NaN   \n",
       "1       Tokyo                                NaN   \n",
       "2       Tokyo                                NaN   \n",
       "3       Tokyo                                NaN   \n",
       "4       Tokyo                                NaN   \n",
       "5       Tokyo                                NaN   \n",
       "6       Tokyo                                NaN   \n",
       "7       Tokyo                                NaN   \n",
       "8       Tokyo                                NaN   \n",
       "9       Tokyo                                NaN   \n",
       "10      Tokyo                                NaN   \n",
       "11      Tokyo                                NaN   \n",
       "12      Tokyo                                NaN   \n",
       "0   Singapore                                3.0   \n",
       "1   Singapore                                3.0   \n",
       "2   Singapore                                3.0   \n",
       "3   Singapore                                4.0   \n",
       "4   Singapore                                4.0   \n",
       "5   Singapore                                4.0   \n",
       "..        ...                                ...   \n",
       "6          SV                                NaN   \n",
       "7          SV                                NaN   \n",
       "8          SV                                NaN   \n",
       "9          SV                                NaN   \n",
       "10         SV                                NaN   \n",
       "11         SV                                NaN   \n",
       "12         SV                                NaN   \n",
       "13         SV                                NaN   \n",
       "14         SV                                NaN   \n",
       "15         SV                                NaN   \n",
       "16         SV                                NaN   \n",
       "17         SV                                NaN   \n",
       "18         SV                                NaN   \n",
       "19         SV                                NaN   \n",
       "20         SV                                NaN   \n",
       "21         SV                                NaN   \n",
       "22         SV                                NaN   \n",
       "23         SV                                NaN   \n",
       "24         SV                                NaN   \n",
       "25         SV                                NaN   \n",
       "26         SV                                NaN   \n",
       "27         SV                                NaN   \n",
       "28         SV                                NaN   \n",
       "29         SV                                NaN   \n",
       "30         SV                                NaN   \n",
       "31         SV                                NaN   \n",
       "32         SV                                NaN   \n",
       "33         SV                                NaN   \n",
       "34         SV                                NaN   \n",
       "35         SV                                NaN   \n",
       "\n",
       "    How well is the schedule paced?  \\\n",
       "0                               3.0   \n",
       "1                               3.0   \n",
       "2                               3.0   \n",
       "3                               4.0   \n",
       "4                               4.0   \n",
       "5                               3.0   \n",
       "6                               3.0   \n",
       "7                               3.0   \n",
       "8                               3.0   \n",
       "9                               3.0   \n",
       "10                              3.0   \n",
       "0                               4.0   \n",
       "1                               3.0   \n",
       "2                               1.0   \n",
       "3                               2.0   \n",
       "4                               4.0   \n",
       "5                               3.0   \n",
       "6                               5.0   \n",
       "7                               2.0   \n",
       "8                               4.0   \n",
       "9                               3.0   \n",
       "10                              3.0   \n",
       "11                              4.0   \n",
       "12                              3.0   \n",
       "0                               NaN   \n",
       "1                               NaN   \n",
       "2                               NaN   \n",
       "3                               NaN   \n",
       "4                               NaN   \n",
       "5                               NaN   \n",
       "..                              ...   \n",
       "6                               4.0   \n",
       "7                               4.0   \n",
       "8                               4.0   \n",
       "9                               4.0   \n",
       "10                              2.0   \n",
       "11                              4.0   \n",
       "12                              5.0   \n",
       "13                              3.0   \n",
       "14                              3.0   \n",
       "15                              3.0   \n",
       "16                              3.0   \n",
       "17                              3.0   \n",
       "18                              3.0   \n",
       "19                              2.0   \n",
       "20                              3.0   \n",
       "21                              3.0   \n",
       "22                              3.0   \n",
       "23                              2.0   \n",
       "24                              5.0   \n",
       "25                              4.0   \n",
       "26                              4.0   \n",
       "27                              3.0   \n",
       "28                              3.0   \n",
       "29                              3.0   \n",
       "30                              3.0   \n",
       "31                              4.0   \n",
       "32                              4.0   \n",
       "33                              3.0   \n",
       "34                              3.0   \n",
       "35                              3.0   \n",
       "\n",
       "    How would you rate your overall satisfaction with the Summer Academy this week?  \\\n",
       "0                                                   3                                 \n",
       "1                                                   4                                 \n",
       "2                                                   4                                 \n",
       "3                                                   4                                 \n",
       "4                                                   5                                 \n",
       "5                                                   4                                 \n",
       "6                                                   4                                 \n",
       "7                                                   5                                 \n",
       "8                                                   5                                 \n",
       "9                                                   5                                 \n",
       "10                                                  3                                 \n",
       "0                                                   3                                 \n",
       "1                                                   4                                 \n",
       "2                                                   4                                 \n",
       "3                                                   4                                 \n",
       "4                                                   5                                 \n",
       "5                                                   3                                 \n",
       "6                                                   5                                 \n",
       "7                                                   4                                 \n",
       "8                                                   3                                 \n",
       "9                                                   5                                 \n",
       "10                                                  5                                 \n",
       "11                                                  4                                 \n",
       "12                                                  4                                 \n",
       "0                                                   2                                 \n",
       "1                                                   2                                 \n",
       "2                                                   3                                 \n",
       "3                                                   4                                 \n",
       "4                                                   4                                 \n",
       "5                                                   4                                 \n",
       "..                                                ...                                 \n",
       "6                                                   4                                 \n",
       "7                                                   3                                 \n",
       "8                                                   4                                 \n",
       "9                                                   3                                 \n",
       "10                                                  3                                 \n",
       "11                                                  5                                 \n",
       "12                                                  5                                 \n",
       "13                                                  4                                 \n",
       "14                                                  5                                 \n",
       "15                                                  5                                 \n",
       "16                                                  4                                 \n",
       "17                                                  5                                 \n",
       "18                                                  5                                 \n",
       "19                                                  5                                 \n",
       "20                                                  3                                 \n",
       "21                                                  3                                 \n",
       "22                                                  4                                 \n",
       "23                                                  4                                 \n",
       "24                                                  4                                 \n",
       "25                                                  4                                 \n",
       "26                                                  4                                 \n",
       "27                                                  4                                 \n",
       "28                                                  4                                 \n",
       "29                                                  4                                 \n",
       "30                                                  4                                 \n",
       "31                                                  4                                 \n",
       "32                                                  4                                 \n",
       "33                                                  5                                 \n",
       "34                                                  5                                 \n",
       "35                                                  5                                 \n",
       "\n",
       "             Timestamp Unnamed: 0 Week What track are you in?  \n",
       "0     8/5/2016 1:39:41        NaN    7                    NaN  \n",
       "1     8/5/2016 1:40:47        NaN    7                    NaN  \n",
       "2     8/5/2016 1:40:50        NaN    7                    NaN  \n",
       "3     8/5/2016 1:42:44        NaN    7                    NaN  \n",
       "4     8/5/2016 1:45:13        NaN    7                    NaN  \n",
       "5     8/5/2016 1:45:39        NaN    7                    NaN  \n",
       "6     8/5/2016 1:49:21        NaN    7                    NaN  \n",
       "7     8/8/2016 1:30:34        NaN    7                    NaN  \n",
       "8     8/8/2016 1:33:45        NaN    7                    NaN  \n",
       "9     8/8/2016 1:49:29        NaN    7                    NaN  \n",
       "10    8/8/2016 1:51:00        NaN    7                    NaN  \n",
       "0    7/31/2016 1:04:57        NaN    6                    NaN  \n",
       "1    7/31/2016 3:38:14        NaN    6                    NaN  \n",
       "2    7/31/2016 3:59:43        NaN    6                    NaN  \n",
       "3    7/31/2016 4:19:51        NaN    6                    NaN  \n",
       "4    7/31/2016 5:14:20        NaN    6                    NaN  \n",
       "5    7/31/2016 6:50:12        NaN    6                    NaN  \n",
       "6   7/31/2016 15:23:52        NaN    6                    NaN  \n",
       "7   7/31/2016 16:49:45        NaN    6                    NaN  \n",
       "8     8/1/2016 1:18:47        NaN    6                    NaN  \n",
       "9     8/1/2016 1:30:17        NaN    6                    NaN  \n",
       "10    8/1/2016 1:30:17        NaN    6                    NaN  \n",
       "11    8/1/2016 6:15:10        NaN    6                    NaN  \n",
       "12    8/1/2016 7:56:08        NaN    6                    NaN  \n",
       "0   6/23/2016 22:24:53        NaN    1                    NaN  \n",
       "1    6/27/2016 4:03:03        NaN    1                    NaN  \n",
       "2   6/23/2016 22:13:04        NaN    1                    NaN  \n",
       "3   6/23/2016 22:09:23        NaN    1                    NaN  \n",
       "4   6/23/2016 22:11:39        NaN    1                    NaN  \n",
       "5   6/23/2016 22:11:44        NaN    1                    NaN  \n",
       "..                 ...        ...  ...                    ...  \n",
       "6    7/8/2016 14:03:46        NaN    3                   Apps  \n",
       "7    7/8/2016 16:40:10        NaN    3                   Apps  \n",
       "8    7/8/2016 13:58:12        NaN    3                   Apps  \n",
       "9    7/8/2016 13:53:19        NaN    3                   Apps  \n",
       "10   7/8/2016 15:59:30        NaN    3                   Apps  \n",
       "11   7/8/2016 16:11:32        NaN    3                   Apps  \n",
       "12   7/8/2016 12:49:05        NaN    3                  Games  \n",
       "13   7/8/2016 12:49:16        NaN    3                  Games  \n",
       "14   7/8/2016 12:47:42        NaN    3                  Games  \n",
       "15   7/8/2016 12:43:44        NaN    3                  Intro  \n",
       "16   7/8/2016 13:55:51        NaN    3                   Apps  \n",
       "17   7/8/2016 14:02:54        NaN    3                  Games  \n",
       "18   7/8/2016 14:29:22        NaN    3                  Games  \n",
       "19   7/9/2016 17:05:33        NaN    3                  Games  \n",
       "20   7/8/2016 16:55:21        NaN    3                   Apps  \n",
       "21   7/8/2016 16:08:13        NaN    3                  Games  \n",
       "22   7/8/2016 13:56:39        NaN    3                   Apps  \n",
       "23   7/8/2016 14:03:35        NaN    3                   Apps  \n",
       "24   7/8/2016 13:51:14        NaN    3                  Games  \n",
       "25   7/8/2016 12:41:10        NaN    3                  Intro  \n",
       "26   7/8/2016 12:41:13        NaN    3                  Intro  \n",
       "27   7/8/2016 12:41:51        NaN    3                  Intro  \n",
       "28   7/8/2016 12:43:35        NaN    3                  Intro  \n",
       "29   7/8/2016 12:45:11        NaN    3                  Intro  \n",
       "30   7/8/2016 12:47:39        NaN    3                  Intro  \n",
       "31   7/8/2016 13:01:58        NaN    3                  Intro  \n",
       "32  7/10/2016 23:44:41        NaN    3                  Games  \n",
       "33   7/8/2016 16:41:06        NaN    3                   Apps  \n",
       "34   7/8/2016 13:07:39        NaN    3                  Games  \n",
       "35   7/8/2016 12:45:02        NaN    3                  Intro  \n",
       "\n",
       "[926 rows x 8 columns]"
      ]
     },
     "metadata": {},
     "output_type": "display_data"
    }
   ],
   "source": [
    "#!/usr/bin/env python\n",
    "\n",
    "import glob\n",
    "import pandas as pd\n",
    "import numpy as np\n",
    "from pandas.api.types import is_numeric_dtype\n",
    "from collections import Counter\n",
    "%matplotlib inline\n",
    "file_dir = 'datasets/ms_survey_feedback/2016/'\n",
    "\n",
    "#Get all files except for wierdy week 8 one\n",
    "filenames = glob.glob(file_dir + 'Anon Week * Feedback - *.csv')\n",
    "\n",
    "\n",
    "#Get wierdy week 8 file\n",
    "week_8 = glob.glob(file_dir + '*Week 8*')\n",
    "w8_df = pd.read_csv(week_8[0])\n",
    "\n",
    "#instantiate list to append columns to\n",
    "col_number = list()\n",
    "col_headers = list()\n",
    "\n",
    "#Create list of column names to extract from filenames\n",
    "df_2016 = pd.DataFrame([])\n",
    "list_2016 = list()\n",
    "print(\"number of files:\", len(filenames))\n",
    "week_set = set()\n",
    "city_set = set()\n",
    "for file_name in filenames:\n",
    "    rows = list()\n",
    "    file_data = file_name.split(\" \")\n",
    "    week = file_data[2]\n",
    "    city_list = file_data[-1].split('.')\n",
    "    city = city_list[0]\n",
    "    file_df = pd.read_csv(file_name)\n",
    "    \n",
    "    week_set.add(week)\n",
    "    city_set.add(city)\n",
    "    \n",
    "    week_data = list()\n",
    "    city_data = list()\n",
    "\n",
    "    for _ in range(0, len(file_df)):\n",
    "        week_data.append(week)\n",
    "        city_data.append(city)\n",
    "\n",
    "    file_df[\"Week\"] = week_data\n",
    "    file_df[\"City\"] = city_data\n",
    "    list_2016.append(file_df)\n",
    "    \n",
    "df_2016 = pd.concat(list_2016)\n",
    "\n",
    "display(df_2016)\n",
    "\n",
    "# goose = pd.DataFrame([[\"one\", \"two\"], [\"two\", \"Three\"]], columns=[\"one\", \"Two\"])\n",
    "# display(goose)\n",
    "\n",
    "# duck = pd.DataFrame([[\"duck\", \"tuck\"], [\"muck\", \"luck\"]], columns=[\"ruckus\", \"muckus\"])\n",
    "# display(duck)\n",
    "\n",
    "# birds = [goose, duck]\n",
    "\n",
    "# fritters = pd.concat(birds)\n",
    "# display(fritters)\n",
    "\n"
   ]
  },
  {
   "cell_type": "code",
   "execution_count": 38,
   "metadata": {},
   "outputs": [
    {
     "name": "stdout",
     "output_type": "stream",
     "text": [
      "['Taipei' 'Tokyo' 'Singapore' 'LA' 'SF' 'SV' 'SG' 'NY' 'HK']\n"
     ]
    }
   ],
   "source": [
    "#w8_df is week 8 data frame\n",
    "#Tracking Satisfaction\n",
    "\n",
    "#df_2016 \n",
    "\n",
    "print(df_2016.City.unique())\n"
   ]
  },
  {
   "cell_type": "code",
   "execution_count": 56,
   "metadata": {},
   "outputs": [
    {
     "name": "stdout",
     "output_type": "stream",
     "text": [
      "Week: 7\n",
      "City: Taipei\n"
     ]
    },
    {
     "data": {
      "text/plain": [
       "count    11.000000\n",
       "mean      4.181818\n",
       "std       0.750757\n",
       "min       3.000000\n",
       "25%       4.000000\n",
       "50%       4.000000\n",
       "75%       5.000000\n",
       "max       5.000000\n",
       "Name: How would you rate your overall satisfaction with the Summer Academy this week?, dtype: float64"
      ]
     },
     "metadata": {},
     "output_type": "display_data"
    },
    {
     "name": "stdout",
     "output_type": "stream",
     "text": [
      "Week: 6\n",
      "City: Taipei\n"
     ]
    },
    {
     "data": {
      "text/plain": [
       "count    12.000000\n",
       "mean      4.416667\n",
       "std       0.792961\n",
       "min       3.000000\n",
       "25%       4.000000\n",
       "50%       5.000000\n",
       "75%       5.000000\n",
       "max       5.000000\n",
       "Name: How would you rate your overall satisfaction with the Summer Academy this week?, dtype: float64"
      ]
     },
     "metadata": {},
     "output_type": "display_data"
    },
    {
     "name": "stdout",
     "output_type": "stream",
     "text": [
      "Week: 1\n",
      "City: Taipei\n"
     ]
    },
    {
     "data": {
      "text/plain": [
       "count    0.0\n",
       "mean     NaN\n",
       "std      NaN\n",
       "min      NaN\n",
       "25%      NaN\n",
       "50%      NaN\n",
       "75%      NaN\n",
       "max      NaN\n",
       "Name: How would you rate your overall satisfaction with the Summer Academy this week?, dtype: float64"
      ]
     },
     "metadata": {},
     "output_type": "display_data"
    },
    {
     "name": "stdout",
     "output_type": "stream",
     "text": [
      "Week: 4\n",
      "City: Taipei\n"
     ]
    },
    {
     "data": {
      "text/plain": [
       "count    0.0\n",
       "mean     NaN\n",
       "std      NaN\n",
       "min      NaN\n",
       "25%      NaN\n",
       "50%      NaN\n",
       "75%      NaN\n",
       "max      NaN\n",
       "Name: How would you rate your overall satisfaction with the Summer Academy this week?, dtype: float64"
      ]
     },
     "metadata": {},
     "output_type": "display_data"
    },
    {
     "name": "stdout",
     "output_type": "stream",
     "text": [
      "Week: 5\n",
      "City: Taipei\n"
     ]
    },
    {
     "data": {
      "text/plain": [
       "count    0.0\n",
       "mean     NaN\n",
       "std      NaN\n",
       "min      NaN\n",
       "25%      NaN\n",
       "50%      NaN\n",
       "75%      NaN\n",
       "max      NaN\n",
       "Name: How would you rate your overall satisfaction with the Summer Academy this week?, dtype: float64"
      ]
     },
     "metadata": {},
     "output_type": "display_data"
    },
    {
     "name": "stdout",
     "output_type": "stream",
     "text": [
      "Week: 2\n",
      "City: Taipei\n"
     ]
    },
    {
     "data": {
      "text/plain": [
       "count    0.0\n",
       "mean     NaN\n",
       "std      NaN\n",
       "min      NaN\n",
       "25%      NaN\n",
       "50%      NaN\n",
       "75%      NaN\n",
       "max      NaN\n",
       "Name: How would you rate your overall satisfaction with the Summer Academy this week?, dtype: float64"
      ]
     },
     "metadata": {},
     "output_type": "display_data"
    },
    {
     "name": "stdout",
     "output_type": "stream",
     "text": [
      "Week: 3\n",
      "City: Taipei\n"
     ]
    },
    {
     "data": {
      "text/plain": [
       "count    0.0\n",
       "mean     NaN\n",
       "std      NaN\n",
       "min      NaN\n",
       "25%      NaN\n",
       "50%      NaN\n",
       "75%      NaN\n",
       "max      NaN\n",
       "Name: How would you rate your overall satisfaction with the Summer Academy this week?, dtype: float64"
      ]
     },
     "metadata": {},
     "output_type": "display_data"
    },
    {
     "name": "stdout",
     "output_type": "stream",
     "text": [
      "Week: 7\n",
      "City: Tokyo\n"
     ]
    },
    {
     "data": {
      "text/plain": [
       "count    0.0\n",
       "mean     NaN\n",
       "std      NaN\n",
       "min      NaN\n",
       "25%      NaN\n",
       "50%      NaN\n",
       "75%      NaN\n",
       "max      NaN\n",
       "Name: How would you rate your overall satisfaction with the Summer Academy this week?, dtype: float64"
      ]
     },
     "metadata": {},
     "output_type": "display_data"
    },
    {
     "name": "stdout",
     "output_type": "stream",
     "text": [
      "Week: 6\n",
      "City: Tokyo\n"
     ]
    },
    {
     "data": {
      "text/plain": [
       "count    13.000000\n",
       "mean      4.076923\n",
       "std       0.759555\n",
       "min       3.000000\n",
       "25%       4.000000\n",
       "50%       4.000000\n",
       "75%       5.000000\n",
       "max       5.000000\n",
       "Name: How would you rate your overall satisfaction with the Summer Academy this week?, dtype: float64"
      ]
     },
     "metadata": {},
     "output_type": "display_data"
    },
    {
     "name": "stdout",
     "output_type": "stream",
     "text": [
      "Week: 1\n",
      "City: Tokyo\n"
     ]
    },
    {
     "data": {
      "text/plain": [
       "count    0.0\n",
       "mean     NaN\n",
       "std      NaN\n",
       "min      NaN\n",
       "25%      NaN\n",
       "50%      NaN\n",
       "75%      NaN\n",
       "max      NaN\n",
       "Name: How would you rate your overall satisfaction with the Summer Academy this week?, dtype: float64"
      ]
     },
     "metadata": {},
     "output_type": "display_data"
    },
    {
     "name": "stdout",
     "output_type": "stream",
     "text": [
      "Week: 4\n",
      "City: Tokyo\n"
     ]
    },
    {
     "data": {
      "text/plain": [
       "count    0.0\n",
       "mean     NaN\n",
       "std      NaN\n",
       "min      NaN\n",
       "25%      NaN\n",
       "50%      NaN\n",
       "75%      NaN\n",
       "max      NaN\n",
       "Name: How would you rate your overall satisfaction with the Summer Academy this week?, dtype: float64"
      ]
     },
     "metadata": {},
     "output_type": "display_data"
    },
    {
     "name": "stdout",
     "output_type": "stream",
     "text": [
      "Week: 5\n",
      "City: Tokyo\n"
     ]
    },
    {
     "data": {
      "text/plain": [
       "count    0.0\n",
       "mean     NaN\n",
       "std      NaN\n",
       "min      NaN\n",
       "25%      NaN\n",
       "50%      NaN\n",
       "75%      NaN\n",
       "max      NaN\n",
       "Name: How would you rate your overall satisfaction with the Summer Academy this week?, dtype: float64"
      ]
     },
     "metadata": {},
     "output_type": "display_data"
    },
    {
     "name": "stdout",
     "output_type": "stream",
     "text": [
      "Week: 2\n",
      "City: Tokyo\n"
     ]
    },
    {
     "data": {
      "text/plain": [
       "count    0.0\n",
       "mean     NaN\n",
       "std      NaN\n",
       "min      NaN\n",
       "25%      NaN\n",
       "50%      NaN\n",
       "75%      NaN\n",
       "max      NaN\n",
       "Name: How would you rate your overall satisfaction with the Summer Academy this week?, dtype: float64"
      ]
     },
     "metadata": {},
     "output_type": "display_data"
    },
    {
     "name": "stdout",
     "output_type": "stream",
     "text": [
      "Week: 3\n",
      "City: Tokyo\n"
     ]
    },
    {
     "data": {
      "text/plain": [
       "count    0.0\n",
       "mean     NaN\n",
       "std      NaN\n",
       "min      NaN\n",
       "25%      NaN\n",
       "50%      NaN\n",
       "75%      NaN\n",
       "max      NaN\n",
       "Name: How would you rate your overall satisfaction with the Summer Academy this week?, dtype: float64"
      ]
     },
     "metadata": {},
     "output_type": "display_data"
    },
    {
     "name": "stdout",
     "output_type": "stream",
     "text": [
      "Week: 7\n",
      "City: Singapore\n"
     ]
    },
    {
     "data": {
      "text/plain": [
       "count    0.0\n",
       "mean     NaN\n",
       "std      NaN\n",
       "min      NaN\n",
       "25%      NaN\n",
       "50%      NaN\n",
       "75%      NaN\n",
       "max      NaN\n",
       "Name: How would you rate your overall satisfaction with the Summer Academy this week?, dtype: float64"
      ]
     },
     "metadata": {},
     "output_type": "display_data"
    },
    {
     "name": "stdout",
     "output_type": "stream",
     "text": [
      "Week: 6\n",
      "City: Singapore\n"
     ]
    },
    {
     "data": {
      "text/plain": [
       "count    0.0\n",
       "mean     NaN\n",
       "std      NaN\n",
       "min      NaN\n",
       "25%      NaN\n",
       "50%      NaN\n",
       "75%      NaN\n",
       "max      NaN\n",
       "Name: How would you rate your overall satisfaction with the Summer Academy this week?, dtype: float64"
      ]
     },
     "metadata": {},
     "output_type": "display_data"
    },
    {
     "name": "stdout",
     "output_type": "stream",
     "text": [
      "Week: 1\n",
      "City: Singapore\n"
     ]
    },
    {
     "data": {
      "text/plain": [
       "count    12.000000\n",
       "mean      3.666667\n",
       "std       0.887625\n",
       "min       2.000000\n",
       "25%       3.750000\n",
       "50%       4.000000\n",
       "75%       4.000000\n",
       "max       5.000000\n",
       "Name: How would you rate your overall satisfaction with the Summer Academy this week?, dtype: float64"
      ]
     },
     "metadata": {},
     "output_type": "display_data"
    },
    {
     "name": "stdout",
     "output_type": "stream",
     "text": [
      "Week: 4\n",
      "City: Singapore\n"
     ]
    },
    {
     "data": {
      "text/plain": [
       "count    0.0\n",
       "mean     NaN\n",
       "std      NaN\n",
       "min      NaN\n",
       "25%      NaN\n",
       "50%      NaN\n",
       "75%      NaN\n",
       "max      NaN\n",
       "Name: How would you rate your overall satisfaction with the Summer Academy this week?, dtype: float64"
      ]
     },
     "metadata": {},
     "output_type": "display_data"
    },
    {
     "name": "stdout",
     "output_type": "stream",
     "text": [
      "Week: 5\n",
      "City: Singapore\n"
     ]
    },
    {
     "data": {
      "text/plain": [
       "count    0.0\n",
       "mean     NaN\n",
       "std      NaN\n",
       "min      NaN\n",
       "25%      NaN\n",
       "50%      NaN\n",
       "75%      NaN\n",
       "max      NaN\n",
       "Name: How would you rate your overall satisfaction with the Summer Academy this week?, dtype: float64"
      ]
     },
     "metadata": {},
     "output_type": "display_data"
    },
    {
     "name": "stdout",
     "output_type": "stream",
     "text": [
      "Week: 2\n",
      "City: Singapore\n"
     ]
    },
    {
     "data": {
      "text/plain": [
       "count    0.0\n",
       "mean     NaN\n",
       "std      NaN\n",
       "min      NaN\n",
       "25%      NaN\n",
       "50%      NaN\n",
       "75%      NaN\n",
       "max      NaN\n",
       "Name: How would you rate your overall satisfaction with the Summer Academy this week?, dtype: float64"
      ]
     },
     "metadata": {},
     "output_type": "display_data"
    },
    {
     "name": "stdout",
     "output_type": "stream",
     "text": [
      "Week: 3\n",
      "City: Singapore\n"
     ]
    },
    {
     "data": {
      "text/plain": [
       "count    0.0\n",
       "mean     NaN\n",
       "std      NaN\n",
       "min      NaN\n",
       "25%      NaN\n",
       "50%      NaN\n",
       "75%      NaN\n",
       "max      NaN\n",
       "Name: How would you rate your overall satisfaction with the Summer Academy this week?, dtype: float64"
      ]
     },
     "metadata": {},
     "output_type": "display_data"
    },
    {
     "name": "stdout",
     "output_type": "stream",
     "text": [
      "Week: 7\n",
      "City: LA\n"
     ]
    },
    {
     "data": {
      "text/plain": [
       "count    9.000000\n",
       "mean     4.333333\n",
       "std      0.707107\n",
       "min      3.000000\n",
       "25%      4.000000\n",
       "50%      4.000000\n",
       "75%      5.000000\n",
       "max      5.000000\n",
       "Name: How would you rate your overall satisfaction with the Summer Academy this week?, dtype: float64"
      ]
     },
     "metadata": {},
     "output_type": "display_data"
    },
    {
     "name": "stdout",
     "output_type": "stream",
     "text": [
      "Week: 6\n",
      "City: LA\n"
     ]
    },
    {
     "data": {
      "text/plain": [
       "count    10.000000\n",
       "mean      4.100000\n",
       "std       1.286684\n",
       "min       1.000000\n",
       "25%       4.000000\n",
       "50%       4.500000\n",
       "75%       5.000000\n",
       "max       5.000000\n",
       "Name: How would you rate your overall satisfaction with the Summer Academy this week?, dtype: float64"
      ]
     },
     "metadata": {},
     "output_type": "display_data"
    },
    {
     "name": "stdout",
     "output_type": "stream",
     "text": [
      "Week: 1\n",
      "City: LA\n"
     ]
    },
    {
     "data": {
      "text/plain": [
       "count    7.000000\n",
       "mean     4.142857\n",
       "std      0.690066\n",
       "min      3.000000\n",
       "25%      4.000000\n",
       "50%      4.000000\n",
       "75%      4.500000\n",
       "max      5.000000\n",
       "Name: How would you rate your overall satisfaction with the Summer Academy this week?, dtype: float64"
      ]
     },
     "metadata": {},
     "output_type": "display_data"
    },
    {
     "name": "stdout",
     "output_type": "stream",
     "text": [
      "Week: 4\n",
      "City: LA\n"
     ]
    },
    {
     "data": {
      "text/plain": [
       "count    8.000000\n",
       "mean     4.375000\n",
       "std      0.744024\n",
       "min      3.000000\n",
       "25%      4.000000\n",
       "50%      4.500000\n",
       "75%      5.000000\n",
       "max      5.000000\n",
       "Name: How would you rate your overall satisfaction with the Summer Academy this week?, dtype: float64"
      ]
     },
     "metadata": {},
     "output_type": "display_data"
    },
    {
     "name": "stdout",
     "output_type": "stream",
     "text": [
      "Week: 5\n",
      "City: LA\n"
     ]
    },
    {
     "data": {
      "text/plain": [
       "count    12.000000\n",
       "mean      4.250000\n",
       "std       0.621582\n",
       "min       3.000000\n",
       "25%       4.000000\n",
       "50%       4.000000\n",
       "75%       5.000000\n",
       "max       5.000000\n",
       "Name: How would you rate your overall satisfaction with the Summer Academy this week?, dtype: float64"
      ]
     },
     "metadata": {},
     "output_type": "display_data"
    },
    {
     "name": "stdout",
     "output_type": "stream",
     "text": [
      "Week: 2\n",
      "City: LA\n"
     ]
    },
    {
     "data": {
      "text/plain": [
       "count    7.000000\n",
       "mean     4.142857\n",
       "std      0.690066\n",
       "min      3.000000\n",
       "25%      4.000000\n",
       "50%      4.000000\n",
       "75%      4.500000\n",
       "max      5.000000\n",
       "Name: How would you rate your overall satisfaction with the Summer Academy this week?, dtype: float64"
      ]
     },
     "metadata": {},
     "output_type": "display_data"
    },
    {
     "name": "stdout",
     "output_type": "stream",
     "text": [
      "Week: 3\n",
      "City: LA\n"
     ]
    },
    {
     "data": {
      "text/plain": [
       "count    6.000000\n",
       "mean     4.166667\n",
       "std      0.408248\n",
       "min      4.000000\n",
       "25%      4.000000\n",
       "50%      4.000000\n",
       "75%      4.000000\n",
       "max      5.000000\n",
       "Name: How would you rate your overall satisfaction with the Summer Academy this week?, dtype: float64"
      ]
     },
     "metadata": {},
     "output_type": "display_data"
    },
    {
     "name": "stdout",
     "output_type": "stream",
     "text": [
      "Week: 7\n",
      "City: SF\n"
     ]
    },
    {
     "data": {
      "text/plain": [
       "count    19.000000\n",
       "mean      4.157895\n",
       "std       1.167293\n",
       "min       1.000000\n",
       "25%       4.000000\n",
       "50%       5.000000\n",
       "75%       5.000000\n",
       "max       5.000000\n",
       "Name: How would you rate your overall satisfaction with the Summer Academy this week?, dtype: float64"
      ]
     },
     "metadata": {},
     "output_type": "display_data"
    },
    {
     "name": "stdout",
     "output_type": "stream",
     "text": [
      "Week: 6\n",
      "City: SF\n"
     ]
    },
    {
     "data": {
      "text/plain": [
       "count    25.000000\n",
       "mean      4.040000\n",
       "std       1.098484\n",
       "min       1.000000\n",
       "25%       3.000000\n",
       "50%       4.000000\n",
       "75%       5.000000\n",
       "max       5.000000\n",
       "Name: How would you rate your overall satisfaction with the Summer Academy this week?, dtype: float64"
      ]
     },
     "metadata": {},
     "output_type": "display_data"
    },
    {
     "name": "stdout",
     "output_type": "stream",
     "text": [
      "Week: 1\n",
      "City: SF\n"
     ]
    },
    {
     "data": {
      "text/plain": [
       "count    93.000000\n",
       "mean      4.473118\n",
       "std       0.618403\n",
       "min       3.000000\n",
       "25%       4.000000\n",
       "50%       5.000000\n",
       "75%       5.000000\n",
       "max       5.000000\n",
       "Name: How would you rate your overall satisfaction with the Summer Academy this week?, dtype: float64"
      ]
     },
     "metadata": {},
     "output_type": "display_data"
    },
    {
     "name": "stdout",
     "output_type": "stream",
     "text": [
      "Week: 4\n",
      "City: SF\n"
     ]
    },
    {
     "data": {
      "text/plain": [
       "count    31.000000\n",
       "mean      4.096774\n",
       "std       0.746317\n",
       "min       3.000000\n",
       "25%       4.000000\n",
       "50%       4.000000\n",
       "75%       5.000000\n",
       "max       5.000000\n",
       "Name: How would you rate your overall satisfaction with the Summer Academy this week?, dtype: float64"
      ]
     },
     "metadata": {},
     "output_type": "display_data"
    },
    {
     "name": "stdout",
     "output_type": "stream",
     "text": [
      "Week: 5\n",
      "City: SF\n"
     ]
    },
    {
     "data": {
      "text/plain": [
       "count    42.000000\n",
       "mean      4.214286\n",
       "std       1.048477\n",
       "min       1.000000\n",
       "25%       4.000000\n",
       "50%       5.000000\n",
       "75%       5.000000\n",
       "max       5.000000\n",
       "Name: How would you rate your overall satisfaction with the Summer Academy this week?, dtype: float64"
      ]
     },
     "metadata": {},
     "output_type": "display_data"
    },
    {
     "name": "stdout",
     "output_type": "stream",
     "text": [
      "Week: 2\n",
      "City: SF\n"
     ]
    },
    {
     "data": {
      "text/plain": [
       "count    62.000000\n",
       "mean      4.225806\n",
       "std       0.894782\n",
       "min       1.000000\n",
       "25%       4.000000\n",
       "50%       4.000000\n",
       "75%       5.000000\n",
       "max       5.000000\n",
       "Name: How would you rate your overall satisfaction with the Summer Academy this week?, dtype: float64"
      ]
     },
     "metadata": {},
     "output_type": "display_data"
    },
    {
     "name": "stdout",
     "output_type": "stream",
     "text": [
      "Week: 3\n",
      "City: SF\n"
     ]
    },
    {
     "data": {
      "text/plain": [
       "count    23.000000\n",
       "mean      4.043478\n",
       "std       1.223938\n",
       "min       1.000000\n",
       "25%       3.500000\n",
       "50%       4.000000\n",
       "75%       5.000000\n",
       "max       5.000000\n",
       "Name: How would you rate your overall satisfaction with the Summer Academy this week?, dtype: float64"
      ]
     },
     "metadata": {},
     "output_type": "display_data"
    },
    {
     "name": "stdout",
     "output_type": "stream",
     "text": [
      "Week: 7\n",
      "City: SV\n"
     ]
    },
    {
     "data": {
      "text/plain": [
       "count    47.000000\n",
       "mean      4.106383\n",
       "std       0.840136\n",
       "min       2.000000\n",
       "25%       3.500000\n",
       "50%       4.000000\n",
       "75%       5.000000\n",
       "max       5.000000\n",
       "Name: How would you rate your overall satisfaction with the Summer Academy this week?, dtype: float64"
      ]
     },
     "metadata": {},
     "output_type": "display_data"
    },
    {
     "name": "stdout",
     "output_type": "stream",
     "text": [
      "Week: 6\n",
      "City: SV\n"
     ]
    },
    {
     "data": {
      "text/plain": [
       "count    35.000000\n",
       "mean      4.085714\n",
       "std       0.781079\n",
       "min       2.000000\n",
       "25%       4.000000\n",
       "50%       4.000000\n",
       "75%       5.000000\n",
       "max       5.000000\n",
       "Name: How would you rate your overall satisfaction with the Summer Academy this week?, dtype: float64"
      ]
     },
     "metadata": {},
     "output_type": "display_data"
    },
    {
     "name": "stdout",
     "output_type": "stream",
     "text": [
      "Week: 1\n",
      "City: SV\n"
     ]
    },
    {
     "data": {
      "text/plain": [
       "count    62.000000\n",
       "mean      4.225806\n",
       "std       0.663309\n",
       "min       2.000000\n",
       "25%       4.000000\n",
       "50%       4.000000\n",
       "75%       5.000000\n",
       "max       5.000000\n",
       "Name: How would you rate your overall satisfaction with the Summer Academy this week?, dtype: float64"
      ]
     },
     "metadata": {},
     "output_type": "display_data"
    },
    {
     "name": "stdout",
     "output_type": "stream",
     "text": [
      "Week: 4\n",
      "City: SV\n"
     ]
    },
    {
     "data": {
      "text/plain": [
       "count    36.000000\n",
       "mean      4.194444\n",
       "std       0.749074\n",
       "min       2.000000\n",
       "25%       4.000000\n",
       "50%       4.000000\n",
       "75%       5.000000\n",
       "max       5.000000\n",
       "Name: How would you rate your overall satisfaction with the Summer Academy this week?, dtype: float64"
      ]
     },
     "metadata": {},
     "output_type": "display_data"
    },
    {
     "name": "stdout",
     "output_type": "stream",
     "text": [
      "Week: 5\n",
      "City: SV\n"
     ]
    },
    {
     "data": {
      "text/plain": [
       "count    41.000000\n",
       "mean      4.097561\n",
       "std       0.830809\n",
       "min       2.000000\n",
       "25%       4.000000\n",
       "50%       4.000000\n",
       "75%       5.000000\n",
       "max       5.000000\n",
       "Name: How would you rate your overall satisfaction with the Summer Academy this week?, dtype: float64"
      ]
     },
     "metadata": {},
     "output_type": "display_data"
    },
    {
     "name": "stdout",
     "output_type": "stream",
     "text": [
      "Week: 2\n",
      "City: SV\n"
     ]
    },
    {
     "data": {
      "text/plain": [
       "count    56.000000\n",
       "mean      4.000000\n",
       "std       0.713506\n",
       "min       3.000000\n",
       "25%       3.750000\n",
       "50%       4.000000\n",
       "75%       4.250000\n",
       "max       5.000000\n",
       "Name: How would you rate your overall satisfaction with the Summer Academy this week?, dtype: float64"
      ]
     },
     "metadata": {},
     "output_type": "display_data"
    },
    {
     "name": "stdout",
     "output_type": "stream",
     "text": [
      "Week: 3\n",
      "City: SV\n"
     ]
    },
    {
     "data": {
      "text/plain": [
       "count    36.000000\n",
       "mean      4.222222\n",
       "std       0.680803\n",
       "min       3.000000\n",
       "25%       4.000000\n",
       "50%       4.000000\n",
       "75%       5.000000\n",
       "max       5.000000\n",
       "Name: How would you rate your overall satisfaction with the Summer Academy this week?, dtype: float64"
      ]
     },
     "metadata": {},
     "output_type": "display_data"
    },
    {
     "name": "stdout",
     "output_type": "stream",
     "text": [
      "Week: 7\n",
      "City: SG\n"
     ]
    },
    {
     "data": {
      "text/plain": [
       "count    0.0\n",
       "mean     NaN\n",
       "std      NaN\n",
       "min      NaN\n",
       "25%      NaN\n",
       "50%      NaN\n",
       "75%      NaN\n",
       "max      NaN\n",
       "Name: How would you rate your overall satisfaction with the Summer Academy this week?, dtype: float64"
      ]
     },
     "metadata": {},
     "output_type": "display_data"
    },
    {
     "name": "stdout",
     "output_type": "stream",
     "text": [
      "Week: 6\n",
      "City: SG\n"
     ]
    },
    {
     "data": {
      "text/plain": [
       "count    6.000000\n",
       "mean     4.333333\n",
       "std      0.816497\n",
       "min      3.000000\n",
       "25%      4.000000\n",
       "50%      4.500000\n",
       "75%      5.000000\n",
       "max      5.000000\n",
       "Name: How would you rate your overall satisfaction with the Summer Academy this week?, dtype: float64"
      ]
     },
     "metadata": {},
     "output_type": "display_data"
    },
    {
     "name": "stdout",
     "output_type": "stream",
     "text": [
      "Week: 1\n",
      "City: SG\n"
     ]
    },
    {
     "data": {
      "text/plain": [
       "count    0.0\n",
       "mean     NaN\n",
       "std      NaN\n",
       "min      NaN\n",
       "25%      NaN\n",
       "50%      NaN\n",
       "75%      NaN\n",
       "max      NaN\n",
       "Name: How would you rate your overall satisfaction with the Summer Academy this week?, dtype: float64"
      ]
     },
     "metadata": {},
     "output_type": "display_data"
    },
    {
     "name": "stdout",
     "output_type": "stream",
     "text": [
      "Week: 4\n",
      "City: SG\n"
     ]
    },
    {
     "data": {
      "text/plain": [
       "count    9.000000\n",
       "mean     3.666667\n",
       "std      0.500000\n",
       "min      3.000000\n",
       "25%      3.000000\n",
       "50%      4.000000\n",
       "75%      4.000000\n",
       "max      4.000000\n",
       "Name: How would you rate your overall satisfaction with the Summer Academy this week?, dtype: float64"
      ]
     },
     "metadata": {},
     "output_type": "display_data"
    },
    {
     "name": "stdout",
     "output_type": "stream",
     "text": [
      "Week: 5\n",
      "City: SG\n"
     ]
    },
    {
     "data": {
      "text/plain": [
       "count    11.000000\n",
       "mean      3.727273\n",
       "std       0.646670\n",
       "min       2.000000\n",
       "25%       4.000000\n",
       "50%       4.000000\n",
       "75%       4.000000\n",
       "max       4.000000\n",
       "Name: How would you rate your overall satisfaction with the Summer Academy this week?, dtype: float64"
      ]
     },
     "metadata": {},
     "output_type": "display_data"
    },
    {
     "name": "stdout",
     "output_type": "stream",
     "text": [
      "Week: 2\n",
      "City: SG\n"
     ]
    },
    {
     "data": {
      "text/plain": [
       "count    8.000000\n",
       "mean     3.375000\n",
       "std      0.517549\n",
       "min      3.000000\n",
       "25%      3.000000\n",
       "50%      3.000000\n",
       "75%      4.000000\n",
       "max      4.000000\n",
       "Name: How would you rate your overall satisfaction with the Summer Academy this week?, dtype: float64"
      ]
     },
     "metadata": {},
     "output_type": "display_data"
    },
    {
     "name": "stdout",
     "output_type": "stream",
     "text": [
      "Week: 3\n",
      "City: SG\n"
     ]
    },
    {
     "data": {
      "text/plain": [
       "count    2.000000\n",
       "mean     4.500000\n",
       "std      0.707107\n",
       "min      4.000000\n",
       "25%      4.250000\n",
       "50%      4.500000\n",
       "75%      4.750000\n",
       "max      5.000000\n",
       "Name: How would you rate your overall satisfaction with the Summer Academy this week?, dtype: float64"
      ]
     },
     "metadata": {},
     "output_type": "display_data"
    },
    {
     "name": "stdout",
     "output_type": "stream",
     "text": [
      "Week: 7\n",
      "City: NY\n"
     ]
    },
    {
     "data": {
      "text/plain": [
       "count    17.000000\n",
       "mean      4.294118\n",
       "std       0.685994\n",
       "min       3.000000\n",
       "25%       4.000000\n",
       "50%       4.000000\n",
       "75%       5.000000\n",
       "max       5.000000\n",
       "Name: How would you rate your overall satisfaction with the Summer Academy this week?, dtype: float64"
      ]
     },
     "metadata": {},
     "output_type": "display_data"
    },
    {
     "name": "stdout",
     "output_type": "stream",
     "text": [
      "Week: 6\n",
      "City: NY\n"
     ]
    },
    {
     "data": {
      "text/plain": [
       "count    20.000000\n",
       "mean      4.050000\n",
       "std       0.944513\n",
       "min       2.000000\n",
       "25%       4.000000\n",
       "50%       4.000000\n",
       "75%       5.000000\n",
       "max       5.000000\n",
       "Name: How would you rate your overall satisfaction with the Summer Academy this week?, dtype: float64"
      ]
     },
     "metadata": {},
     "output_type": "display_data"
    },
    {
     "name": "stdout",
     "output_type": "stream",
     "text": [
      "Week: 1\n",
      "City: NY\n"
     ]
    },
    {
     "data": {
      "text/plain": [
       "count    39.000000\n",
       "mean      4.358974\n",
       "std       0.627744\n",
       "min       3.000000\n",
       "25%       4.000000\n",
       "50%       4.000000\n",
       "75%       5.000000\n",
       "max       5.000000\n",
       "Name: How would you rate your overall satisfaction with the Summer Academy this week?, dtype: float64"
      ]
     },
     "metadata": {},
     "output_type": "display_data"
    },
    {
     "name": "stdout",
     "output_type": "stream",
     "text": [
      "Week: 4\n",
      "City: NY\n"
     ]
    },
    {
     "data": {
      "text/plain": [
       "count    16.000000\n",
       "mean      4.312500\n",
       "std       0.478714\n",
       "min       4.000000\n",
       "25%       4.000000\n",
       "50%       4.000000\n",
       "75%       5.000000\n",
       "max       5.000000\n",
       "Name: How would you rate your overall satisfaction with the Summer Academy this week?, dtype: float64"
      ]
     },
     "metadata": {},
     "output_type": "display_data"
    },
    {
     "name": "stdout",
     "output_type": "stream",
     "text": [
      "Week: 5\n",
      "City: NY\n"
     ]
    },
    {
     "data": {
      "text/plain": [
       "count    21.000000\n",
       "mean      4.333333\n",
       "std       0.577350\n",
       "min       3.000000\n",
       "25%       4.000000\n",
       "50%       4.000000\n",
       "75%       5.000000\n",
       "max       5.000000\n",
       "Name: How would you rate your overall satisfaction with the Summer Academy this week?, dtype: float64"
      ]
     },
     "metadata": {},
     "output_type": "display_data"
    },
    {
     "name": "stdout",
     "output_type": "stream",
     "text": [
      "Week: 2\n",
      "City: NY\n"
     ]
    },
    {
     "data": {
      "text/plain": [
       "count    28.000000\n",
       "mean      4.214286\n",
       "std       0.686221\n",
       "min       3.000000\n",
       "25%       4.000000\n",
       "50%       4.000000\n",
       "75%       5.000000\n",
       "max       5.000000\n",
       "Name: How would you rate your overall satisfaction with the Summer Academy this week?, dtype: float64"
      ]
     },
     "metadata": {},
     "output_type": "display_data"
    },
    {
     "name": "stdout",
     "output_type": "stream",
     "text": [
      "Week: 3\n",
      "City: NY\n"
     ]
    },
    {
     "data": {
      "text/plain": [
       "count    28.000000\n",
       "mean      4.321429\n",
       "std       0.547964\n",
       "min       3.000000\n",
       "25%       4.000000\n",
       "50%       4.000000\n",
       "75%       5.000000\n",
       "max       5.000000\n",
       "Name: How would you rate your overall satisfaction with the Summer Academy this week?, dtype: float64"
      ]
     },
     "metadata": {},
     "output_type": "display_data"
    },
    {
     "name": "stdout",
     "output_type": "stream",
     "text": [
      "Week: 7\n",
      "City: HK\n"
     ]
    },
    {
     "data": {
      "text/plain": [
       "count    0.0\n",
       "mean     NaN\n",
       "std      NaN\n",
       "min      NaN\n",
       "25%      NaN\n",
       "50%      NaN\n",
       "75%      NaN\n",
       "max      NaN\n",
       "Name: How would you rate your overall satisfaction with the Summer Academy this week?, dtype: float64"
      ]
     },
     "metadata": {},
     "output_type": "display_data"
    },
    {
     "name": "stdout",
     "output_type": "stream",
     "text": [
      "Week: 6\n",
      "City: HK\n"
     ]
    },
    {
     "data": {
      "text/plain": [
       "count    3.000000\n",
       "mean     4.666667\n",
       "std      0.577350\n",
       "min      4.000000\n",
       "25%      4.500000\n",
       "50%      5.000000\n",
       "75%      5.000000\n",
       "max      5.000000\n",
       "Name: How would you rate your overall satisfaction with the Summer Academy this week?, dtype: float64"
      ]
     },
     "metadata": {},
     "output_type": "display_data"
    },
    {
     "name": "stdout",
     "output_type": "stream",
     "text": [
      "Week: 1\n",
      "City: HK\n"
     ]
    },
    {
     "data": {
      "text/plain": [
       "count    0.0\n",
       "mean     NaN\n",
       "std      NaN\n",
       "min      NaN\n",
       "25%      NaN\n",
       "50%      NaN\n",
       "75%      NaN\n",
       "max      NaN\n",
       "Name: How would you rate your overall satisfaction with the Summer Academy this week?, dtype: float64"
      ]
     },
     "metadata": {},
     "output_type": "display_data"
    },
    {
     "name": "stdout",
     "output_type": "stream",
     "text": [
      "Week: 4\n",
      "City: HK\n"
     ]
    },
    {
     "data": {
      "text/plain": [
       "count    0.0\n",
       "mean     NaN\n",
       "std      NaN\n",
       "min      NaN\n",
       "25%      NaN\n",
       "50%      NaN\n",
       "75%      NaN\n",
       "max      NaN\n",
       "Name: How would you rate your overall satisfaction with the Summer Academy this week?, dtype: float64"
      ]
     },
     "metadata": {},
     "output_type": "display_data"
    },
    {
     "name": "stdout",
     "output_type": "stream",
     "text": [
      "Week: 5\n",
      "City: HK\n"
     ]
    },
    {
     "data": {
      "text/plain": [
       "count    3.000000\n",
       "mean     4.666667\n",
       "std      0.577350\n",
       "min      4.000000\n",
       "25%      4.500000\n",
       "50%      5.000000\n",
       "75%      5.000000\n",
       "max      5.000000\n",
       "Name: How would you rate your overall satisfaction with the Summer Academy this week?, dtype: float64"
      ]
     },
     "metadata": {},
     "output_type": "display_data"
    },
    {
     "name": "stdout",
     "output_type": "stream",
     "text": [
      "Week: 2\n",
      "City: HK\n"
     ]
    },
    {
     "data": {
      "text/plain": [
       "count    0.0\n",
       "mean     NaN\n",
       "std      NaN\n",
       "min      NaN\n",
       "25%      NaN\n",
       "50%      NaN\n",
       "75%      NaN\n",
       "max      NaN\n",
       "Name: How would you rate your overall satisfaction with the Summer Academy this week?, dtype: float64"
      ]
     },
     "metadata": {},
     "output_type": "display_data"
    },
    {
     "name": "stdout",
     "output_type": "stream",
     "text": [
      "Week: 3\n",
      "City: HK\n"
     ]
    },
    {
     "data": {
      "text/plain": [
       "count    0.0\n",
       "mean     NaN\n",
       "std      NaN\n",
       "min      NaN\n",
       "25%      NaN\n",
       "50%      NaN\n",
       "75%      NaN\n",
       "max      NaN\n",
       "Name: How would you rate your overall satisfaction with the Summer Academy this week?, dtype: float64"
      ]
     },
     "metadata": {},
     "output_type": "display_data"
    }
   ],
   "source": [
    "for city in df_2016.City.unique():\n",
    "    #get weekly average scores per city\n",
    "    avg_list = list()\n",
    "    happy_key = \"How would you rate your overall satisfaction with the Summer Academy this week?\"\n",
    "    for week in df_2016.Week.unique():\n",
    "        by_week = df_2016.loc[df_2016[\"Week\"] == week ]\n",
    "        by_weekcity = by_week.loc[by_week.City == city]\n",
    "        #display(by_weekcity[\"How would you rate your overall satisfaction with the Summer Academy this week?\"].mean())\n",
    "        print(\"Week:\", week)\n",
    "        print(\"City:\", city)\n",
    "        display(by_weekcity[happy_key].describe())\n",
    "#         display(by_weekcity[happy_key].mean())\n",
    "        \n",
    "#         df_2016[df_2016[\"City\"] == city]\n",
    "\n",
    "# histogram = df_2016[happy_key].hist(bins=5, figsize=(20,10))\n",
    "# histogram.set_title(\"overall satisfaction\")\n",
    "# display(histogram)\n",
    "\n",
    "# df_2016.head()\n",
    "# df_2016[happy_key].hist()\n",
    "\n",
    "\n"
   ]
  },
  {
   "cell_type": "code",
   "execution_count": null,
   "metadata": {
    "collapsed": true
   },
   "outputs": [],
   "source": []
  }
 ],
 "metadata": {
  "kernelspec": {
   "display_name": "Python 3",
   "language": "python",
   "name": "python3"
  },
  "language_info": {
   "codemirror_mode": {
    "name": "ipython",
    "version": 3
   },
   "file_extension": ".py",
   "mimetype": "text/x-python",
   "name": "python",
   "nbconvert_exporter": "python",
   "pygments_lexer": "ipython3",
   "version": "3.6.3"
  }
 },
 "nbformat": 4,
 "nbformat_minor": 2
}
